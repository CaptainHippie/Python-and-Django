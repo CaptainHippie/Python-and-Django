{
 "cells": [
  {
   "cell_type": "code",
   "execution_count": 39,
   "metadata": {},
   "outputs": [
    {
     "data": {
      "text/html": [
       "<div>\n",
       "<style scoped>\n",
       "    .dataframe tbody tr th:only-of-type {\n",
       "        vertical-align: middle;\n",
       "    }\n",
       "\n",
       "    .dataframe tbody tr th {\n",
       "        vertical-align: top;\n",
       "    }\n",
       "\n",
       "    .dataframe thead th {\n",
       "        text-align: right;\n",
       "    }\n",
       "</style>\n",
       "<table border=\"1\" class=\"dataframe\">\n",
       "  <thead>\n",
       "    <tr style=\"text-align: right;\">\n",
       "      <th></th>\n",
       "      <th>acct_id</th>\n",
       "      <th>FICO</th>\n",
       "    </tr>\n",
       "  </thead>\n",
       "  <tbody>\n",
       "    <tr>\n",
       "      <th>0</th>\n",
       "      <td>1</td>\n",
       "      <td>768</td>\n",
       "    </tr>\n",
       "    <tr>\n",
       "      <th>1</th>\n",
       "      <td>2</td>\n",
       "      <td>850</td>\n",
       "    </tr>\n",
       "    <tr>\n",
       "      <th>2</th>\n",
       "      <td>3</td>\n",
       "      <td>677</td>\n",
       "    </tr>\n",
       "    <tr>\n",
       "      <th>3</th>\n",
       "      <td>4</td>\n",
       "      <td>843</td>\n",
       "    </tr>\n",
       "    <tr>\n",
       "      <th>4</th>\n",
       "      <td>5</td>\n",
       "      <td>796</td>\n",
       "    </tr>\n",
       "    <tr>\n",
       "      <th>5</th>\n",
       "      <td>6</td>\n",
       "      <td>669</td>\n",
       "    </tr>\n",
       "    <tr>\n",
       "      <th>6</th>\n",
       "      <td>7</td>\n",
       "      <td>805</td>\n",
       "    </tr>\n",
       "    <tr>\n",
       "      <th>7</th>\n",
       "      <td>8</td>\n",
       "      <td>850</td>\n",
       "    </tr>\n",
       "    <tr>\n",
       "      <th>8</th>\n",
       "      <td>9</td>\n",
       "      <td>838</td>\n",
       "    </tr>\n",
       "    <tr>\n",
       "      <th>9</th>\n",
       "      <td>10</td>\n",
       "      <td>850</td>\n",
       "    </tr>\n",
       "    <tr>\n",
       "      <th>10</th>\n",
       "      <td>11</td>\n",
       "      <td>NaN</td>\n",
       "    </tr>\n",
       "    <tr>\n",
       "      <th>11</th>\n",
       "      <td>12</td>\n",
       "      <td>794</td>\n",
       "    </tr>\n",
       "    <tr>\n",
       "      <th>12</th>\n",
       "      <td>13</td>\n",
       "      <td>832</td>\n",
       "    </tr>\n",
       "    <tr>\n",
       "      <th>13</th>\n",
       "      <td>14</td>\n",
       "      <td>777</td>\n",
       "    </tr>\n",
       "    <tr>\n",
       "      <th>14</th>\n",
       "      <td>15</td>\n",
       "      <td>809</td>\n",
       "    </tr>\n",
       "    <tr>\n",
       "      <th>15</th>\n",
       "      <td>16</td>\n",
       "      <td>793</td>\n",
       "    </tr>\n",
       "    <tr>\n",
       "      <th>16</th>\n",
       "      <td>17</td>\n",
       "      <td>746</td>\n",
       "    </tr>\n",
       "    <tr>\n",
       "      <th>17</th>\n",
       "      <td>18</td>\n",
       "      <td>NaN</td>\n",
       "    </tr>\n",
       "    <tr>\n",
       "      <th>18</th>\n",
       "      <td>19</td>\n",
       "      <td>781</td>\n",
       "    </tr>\n",
       "    <tr>\n",
       "      <th>19</th>\n",
       "      <td>20</td>\n",
       "      <td>812</td>\n",
       "    </tr>\n",
       "  </tbody>\n",
       "</table>\n",
       "</div>"
      ],
      "text/plain": [
       "    acct_id FICO\n",
       "0         1  768\n",
       "1         2  850\n",
       "2         3  677\n",
       "3         4  843\n",
       "4         5  796\n",
       "5         6  669\n",
       "6         7  805\n",
       "7         8  850\n",
       "8         9  838\n",
       "9        10  850\n",
       "10       11  NaN\n",
       "11       12  794\n",
       "12       13  832\n",
       "13       14  777\n",
       "14       15  809\n",
       "15       16  793\n",
       "16       17  746\n",
       "17       18  NaN\n",
       "18       19  781\n",
       "19       20  812"
      ]
     },
     "execution_count": 39,
     "metadata": {},
     "output_type": "execute_result"
    }
   ],
   "source": [
    "import pandas as pd\n",
    "df = pd.read_csv(\"fico.csv\")\n",
    "df.head(20)"
   ]
  },
  {
   "cell_type": "code",
   "execution_count": 40,
   "metadata": {},
   "outputs": [
    {
     "data": {
      "text/html": [
       "<div>\n",
       "<style scoped>\n",
       "    .dataframe tbody tr th:only-of-type {\n",
       "        vertical-align: middle;\n",
       "    }\n",
       "\n",
       "    .dataframe tbody tr th {\n",
       "        vertical-align: top;\n",
       "    }\n",
       "\n",
       "    .dataframe thead th {\n",
       "        text-align: right;\n",
       "    }\n",
       "</style>\n",
       "<table border=\"1\" class=\"dataframe\">\n",
       "  <thead>\n",
       "    <tr style=\"text-align: right;\">\n",
       "      <th></th>\n",
       "      <th>acct_id</th>\n",
       "      <th>FICO</th>\n",
       "    </tr>\n",
       "  </thead>\n",
       "  <tbody>\n",
       "    <tr>\n",
       "      <th>0</th>\n",
       "      <td>1</td>\n",
       "      <td>768</td>\n",
       "    </tr>\n",
       "    <tr>\n",
       "      <th>1</th>\n",
       "      <td>2</td>\n",
       "      <td>850</td>\n",
       "    </tr>\n",
       "    <tr>\n",
       "      <th>2</th>\n",
       "      <td>3</td>\n",
       "      <td>677</td>\n",
       "    </tr>\n",
       "    <tr>\n",
       "      <th>3</th>\n",
       "      <td>4</td>\n",
       "      <td>843</td>\n",
       "    </tr>\n",
       "    <tr>\n",
       "      <th>4</th>\n",
       "      <td>5</td>\n",
       "      <td>796</td>\n",
       "    </tr>\n",
       "    <tr>\n",
       "      <th>5</th>\n",
       "      <td>6</td>\n",
       "      <td>669</td>\n",
       "    </tr>\n",
       "    <tr>\n",
       "      <th>6</th>\n",
       "      <td>7</td>\n",
       "      <td>805</td>\n",
       "    </tr>\n",
       "    <tr>\n",
       "      <th>7</th>\n",
       "      <td>8</td>\n",
       "      <td>850</td>\n",
       "    </tr>\n",
       "    <tr>\n",
       "      <th>8</th>\n",
       "      <td>9</td>\n",
       "      <td>838</td>\n",
       "    </tr>\n",
       "    <tr>\n",
       "      <th>9</th>\n",
       "      <td>10</td>\n",
       "      <td>850</td>\n",
       "    </tr>\n",
       "    <tr>\n",
       "      <th>11</th>\n",
       "      <td>12</td>\n",
       "      <td>794</td>\n",
       "    </tr>\n",
       "    <tr>\n",
       "      <th>12</th>\n",
       "      <td>13</td>\n",
       "      <td>832</td>\n",
       "    </tr>\n",
       "    <tr>\n",
       "      <th>13</th>\n",
       "      <td>14</td>\n",
       "      <td>777</td>\n",
       "    </tr>\n",
       "    <tr>\n",
       "      <th>14</th>\n",
       "      <td>15</td>\n",
       "      <td>809</td>\n",
       "    </tr>\n",
       "    <tr>\n",
       "      <th>15</th>\n",
       "      <td>16</td>\n",
       "      <td>793</td>\n",
       "    </tr>\n",
       "    <tr>\n",
       "      <th>16</th>\n",
       "      <td>17</td>\n",
       "      <td>746</td>\n",
       "    </tr>\n",
       "    <tr>\n",
       "      <th>18</th>\n",
       "      <td>19</td>\n",
       "      <td>781</td>\n",
       "    </tr>\n",
       "    <tr>\n",
       "      <th>19</th>\n",
       "      <td>20</td>\n",
       "      <td>812</td>\n",
       "    </tr>\n",
       "    <tr>\n",
       "      <th>20</th>\n",
       "      <td>21</td>\n",
       "      <td>811</td>\n",
       "    </tr>\n",
       "    <tr>\n",
       "      <th>21</th>\n",
       "      <td>22</td>\n",
       "      <td>849</td>\n",
       "    </tr>\n",
       "  </tbody>\n",
       "</table>\n",
       "</div>"
      ],
      "text/plain": [
       "    acct_id FICO\n",
       "0         1  768\n",
       "1         2  850\n",
       "2         3  677\n",
       "3         4  843\n",
       "4         5  796\n",
       "5         6  669\n",
       "6         7  805\n",
       "7         8  850\n",
       "8         9  838\n",
       "9        10  850\n",
       "11       12  794\n",
       "12       13  832\n",
       "13       14  777\n",
       "14       15  809\n",
       "15       16  793\n",
       "16       17  746\n",
       "18       19  781\n",
       "19       20  812\n",
       "20       21  811\n",
       "21       22  849"
      ]
     },
     "execution_count": 40,
     "metadata": {},
     "output_type": "execute_result"
    }
   ],
   "source": [
    "mask = df.dropna()\n",
    "mask.head(20)"
   ]
  },
  {
   "cell_type": "code",
   "execution_count": 41,
   "metadata": {},
   "outputs": [
    {
     "name": "stdout",
     "output_type": "stream",
     "text": [
      "       acct_id FICO\n",
      "140        140  752\n",
      "190        189  745\n",
      "192        190  828\n",
      "194        191  752\n",
      "196        192  850\n",
      "30506    30501  773\n",
      "30508    30502  798\n",
      "30510    30503  820\n",
      "30514    30505  820\n",
      "30520    30508  850\n"
     ]
    }
   ],
   "source": [
    "duplicates = mask[mask.duplicated('acct_id')]\n",
    "print(duplicates)"
   ]
  },
  {
   "cell_type": "code",
   "execution_count": 42,
   "metadata": {},
   "outputs": [
    {
     "name": "stdout",
     "output_type": "stream",
     "text": [
      "Empty DataFrame\n",
      "Columns: [acct_id, FICO]\n",
      "Index: []\n",
      "    acct_id FICO\n",
      "0         1  768\n",
      "1         2  850\n",
      "2         3  677\n",
      "3         4  843\n",
      "4         5  796\n",
      "5         6  669\n",
      "6         7  805\n",
      "7         8  850\n",
      "8         9  838\n",
      "9        10  850\n",
      "11       12  794\n",
      "12       13  832\n",
      "13       14  777\n",
      "14       15  809\n",
      "15       16  793\n",
      "16       17  746\n",
      "18       19  781\n",
      "19       20  812\n",
      "20       21  811\n",
      "21       22  849\n"
     ]
    }
   ],
   "source": [
    "clean = mask.drop_duplicates(subset='acct_id')\n",
    "duplicates2 = clean[clean.duplicated('acct_id')]\n",
    "print(duplicates2)\n",
    "print(clean.head(20))\n",
    "\n"
   ]
  },
  {
   "cell_type": "code",
   "execution_count": 43,
   "metadata": {},
   "outputs": [
    {
     "name": "stdout",
     "output_type": "stream",
     "text": [
      "    acct_id FICO\n",
      "0         1  768\n",
      "1         2  850\n",
      "2         3  677\n",
      "3         4  843\n",
      "4         5  796\n",
      "5         6  669\n",
      "6         7  805\n",
      "7         8  850\n",
      "8         9  838\n",
      "9        10  850\n",
      "11       12  794\n",
      "12       13  832\n",
      "13       14  777\n",
      "14       15  809\n",
      "15       16  793\n",
      "16       17  746\n",
      "18       19  781\n",
      "19       20  812\n",
      "20       21  811\n",
      "21       22  849\n"
     ]
    }
   ],
   "source": [
    "\n",
    "clean2 = clean\n",
    "\n",
    "#clean2.iloc[clean2[['FICO']].convert_objects(convert_numeric=True).dropna().index]\n",
    "\n",
    "clean2 = clean2[pd.to_numeric(clean2.acct_id, errors='coerce').notnull()]\n",
    "clean2 = clean2[pd.to_numeric(clean2.FICO, errors='coerce').notnull()]\n",
    "\n",
    "print(clean2.head(20))\n",
    "\n",
    "fico_clean = clean2.set_index('acct_id')\n",
    "fico_clean.to_csv('fico_clean.csv')"
   ]
  },
  {
   "cell_type": "code",
   "execution_count": 44,
   "metadata": {},
   "outputs": [
    {
     "name": "stdout",
     "output_type": "stream",
     "text": [
      "850\n",
      "420\n"
     ]
    }
   ],
   "source": [
    "max_value = fico_clean['FICO'].max()\n",
    "min_value = fico_clean['FICO'].min()\n",
    "print(max_value)\n",
    "print(min_value)"
   ]
  },
  {
   "cell_type": "code",
   "execution_count": 45,
   "metadata": {},
   "outputs": [
    {
     "name": "stdout",
     "output_type": "stream",
     "text": [
      "FICO    object\n",
      "dtype: object\n",
      "FICO    int64\n",
      "dtype: object\n"
     ]
    }
   ],
   "source": [
    "print(fico_clean.dtypes)\n",
    "fico_clean2 = fico_clean.astype('int')\n",
    "#fico_clean2['FICO'] = fico_clean2['FICO'].astype('int')\n",
    "#fico_clean2 = fico_clean2[pd.to_numeric(fico_clean2.FICO, errors='coerce').notnull()]\n",
    "\n",
    "print(fico_clean2.dtypes)\n"
   ]
  },
  {
   "cell_type": "code",
   "execution_count": 46,
   "metadata": {},
   "outputs": [
    {
     "name": "stdout",
     "output_type": "stream",
     "text": [
      "         FICO\n",
      "acct_id      \n",
      "3326      500\n",
      "5391      489\n",
      "7602      420\n",
      "8401      493\n",
      "9412      500\n",
      "...       ...\n",
      "91570     494\n",
      "96724     491\n",
      "97205     498\n",
      "97564     482\n",
      "98627     495\n",
      "\n",
      "[69 rows x 1 columns]\n"
     ]
    }
   ],
   "source": [
    "set1 = fico_clean2[fico_clean2['FICO'] <= 500]\n",
    "set2 = fico_clean2[(fico_clean2['FICO'] <= 600) & (fico_clean2['FICO'] > 500)]\n",
    "set3 = fico_clean2[(fico_clean2['FICO'] <= 700) & (fico_clean2['FICO'] > 600)]\n",
    "set4 = fico_clean2[(fico_clean2['FICO'] <= 800) & (fico_clean2['FICO'] > 700)]\n",
    "set5 = fico_clean2[(fico_clean2['FICO'] <= 900) & (fico_clean2['FICO'] > 800)]\n",
    "print(set1)"
   ]
  },
  {
   "cell_type": "code",
   "execution_count": 51,
   "metadata": {},
   "outputs": [],
   "source": [
    "set1.to_csv('set1.csv')\n",
    "set2.to_csv('set2.csv')\n",
    "set3.to_csv('set3.csv')\n",
    "set4.to_csv('set4.csv')\n",
    "set5.to_csv('set5.csv')\n"
   ]
  },
  {
   "cell_type": "code",
   "execution_count": 56,
   "metadata": {},
   "outputs": [
    {
     "data": {
      "text/plain": [
       "<AxesSubplot:ylabel='Frequency'>"
      ]
     },
     "execution_count": 56,
     "metadata": {},
     "output_type": "execute_result"
    },
    {
     "data": {
      "image/png": "[encoded data removed]",
      "text/plain": [
       "<Figure size 432x288 with 1 Axes>"
      ]
     },
     "metadata": {
      "needs_background": "light"
     },
     "output_type": "display_data"
    }
   ],
   "source": [
    "ax = fico_clean2.plot.hist(bins = 5)"
   ]
  },
  {
   "cell_type": "code",
   "execution_count": null,
   "metadata": {},
   "outputs": [],
   "source": []
  }
 ],
 "metadata": {
  "kernelspec": {
   "display_name": "Python 3.10.4 64-bit",
   "language": "python",
   "name": "python3"
  },
  "language_info": {
   "codemirror_mode": {
    "name": "ipython",
    "version": 3
   },
   "file_extension": ".py",
   "mimetype": "text/x-python",
   "name": "python",
   "nbconvert_exporter": "python",
   "pygments_lexer": "ipython3",
   "version": "3.10.4"
  },
  "orig_nbformat": 4,
  "vscode": {
   "interpreter": {
    "hash": "916dbcbb3f70747c44a77c7bcd40155683ae19c65e1c03b4aa3499c5328201f1"
   }
  }
 },
 "nbformat": 4,
 "nbformat_minor": 2
}
